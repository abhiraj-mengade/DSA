{
  "nbformat": 4,
  "nbformat_minor": 0,
  "metadata": {
    "colab": {
      "name": "Sorting Algorithms.ipynb",
      "provenance": [],
      "collapsed_sections": [],
      "authorship_tag": "ABX9TyPMIPpqpr3ijvLy6V6cWMC0",
      "include_colab_link": true
    },
    "kernelspec": {
      "name": "python3",
      "display_name": "Python 3"
    },
    "language_info": {
      "name": "python"
    }
  },
  "cells": [
    {
      "cell_type": "markdown",
      "metadata": {
        "id": "view-in-github",
        "colab_type": "text"
      },
      "source": [
        "<a href=\"https://colab.research.google.com/github/abhiraj-mengade/DSA/blob/main/Sorting_Algorithms.ipynb\" target=\"_parent\"><img src=\"https://colab.research.google.com/assets/colab-badge.svg\" alt=\"Open In Colab\"/></a>"
      ]
    },
    {
      "cell_type": "code",
      "metadata": {
        "id": "RPr5Txl8hEYz",
        "colab": {
          "base_uri": "https://localhost:8080/"
        },
        "outputId": "3202d858-bae8-4c0c-b198-bd5051cb1e49"
      },
      "source": [
        "#mergesort \n",
        "def merge(List,l,m,r):\n",
        "  l1= m-l+1\n",
        "  r1= r-m\n",
        "  L = [0] * (l1)\n",
        "  R = [0] * (r1)\n",
        "  \n",
        "  for i in range(0 , l1):\n",
        "      L[i] = List[l + i]\n",
        "  \n",
        "  for j in range(0 , r1):\n",
        "      R[j] = List[m + 1 + j]\n",
        "  i =0\n",
        "  j =0\n",
        "  k =l\n",
        "  while i < l1 and j < r1:\n",
        "    if L[i]<=R[j]:\n",
        "      List[k]=L[i]\n",
        "      i += 1\n",
        "    else:\n",
        "      List[k]=R[j]\n",
        "      j += 1\n",
        "    k += 1\n",
        "  while i<l1:\n",
        "    List[k]=L[i]\n",
        "    k+=1\n",
        "    i+=1\n",
        "  while j<r1:\n",
        "    List[k]=R[j]\n",
        "    k+=1\n",
        "    j+=1\n",
        "\n",
        "def mergesort(List,l,r):\n",
        "  if l<r:\n",
        "    m = (l+(r-1))//2\n",
        "    mergesort(List,l,m)\n",
        "    mergesort(List,m+1,r)\n",
        "    merge(List,l,m,r)\n",
        "  return List\n",
        "\n",
        "\n",
        "  \n",
        "print(mergesort([1,2,3,4,5],0,4))\n",
        "\n",
        "\n",
        "  \n"
      ],
      "execution_count": 22,
      "outputs": [
        {
          "output_type": "stream",
          "text": [
            "[1, 2, 3, 4, 5]\n"
          ],
          "name": "stdout"
        }
      ]
    },
    {
      "cell_type": "markdown",
      "metadata": {
        "id": "bygLLaTjaDtT"
      },
      "source": [
        ""
      ]
    },
    {
      "cell_type": "code",
      "metadata": {
        "colab": {
          "base_uri": "https://localhost:8080/"
        },
        "id": "QMFBr1_tSozg",
        "outputId": "1e066e92-c1aa-45a9-9791-718844a9a8e7"
      },
      "source": [
        "#Insertion Sort\n",
        "def insort(List):\n",
        "  for i in range(0,len(List)):\n",
        "    key = List[i]\n",
        "    j=i-1\n",
        "    while j>=0 and key<List[j]:\n",
        "      List[j+1] = List[j]\n",
        "      j-=1\n",
        "    List[j+1]=key\n",
        "  print(List)\n",
        "insort([5,4,3,2,1])"
      ],
      "execution_count": 30,
      "outputs": [
        {
          "output_type": "stream",
          "text": [
            "[1, 2, 3, 4, 5]\n"
          ],
          "name": "stdout"
        }
      ]
    },
    {
      "cell_type": "code",
      "metadata": {
        "colab": {
          "base_uri": "https://localhost:8080/"
        },
        "id": "LyLXtgaVecj0",
        "outputId": "7cbb825f-0719-427a-c327-4693241d7420"
      },
      "source": [
        "#BucketSort\n",
        "import math\n",
        "def bucksort(List):\n",
        "  M = max(List)\n",
        "  b = round(math.sqrt(len(List)))\n",
        "  arr=[]\n",
        "  for i in range(b):\n",
        "    arr.append([])\n",
        "  for j in List:\n",
        "    index = math.ceil(j*b/M)\n",
        "    arr[index-1].append(j)\n",
        "  for i in range(b):\n",
        "    arr[i]=insort(arr[i])\n",
        "  print(arr)\n",
        "\n",
        "bucksort([5,4,3,2,1])"
      ],
      "execution_count": 35,
      "outputs": [
        {
          "output_type": "stream",
          "text": [
            "[1, 2]\n",
            "[3, 4, 5]\n",
            "[None, None]\n"
          ],
          "name": "stdout"
        }
      ]
    },
    {
      "cell_type": "code",
      "metadata": {
        "id": "pf0BnwRHhalX"
      },
      "source": [
        ""
      ],
      "execution_count": null,
      "outputs": []
    }
  ]
}