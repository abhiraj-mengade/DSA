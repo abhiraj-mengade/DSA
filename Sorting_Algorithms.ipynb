{
  "nbformat": 4,
  "nbformat_minor": 0,
  "metadata": {
    "colab": {
      "name": "Sorting Algorithms.ipynb",
      "provenance": [],
      "collapsed_sections": [],
      "authorship_tag": "ABX9TyNKv3fMsNJ7ycwHoRRppLsQ",
      "include_colab_link": true
    },
    "kernelspec": {
      "name": "python3",
      "display_name": "Python 3"
    },
    "language_info": {
      "name": "python"
    }
  },
  "cells": [
    {
      "cell_type": "markdown",
      "metadata": {
        "id": "view-in-github",
        "colab_type": "text"
      },
      "source": [
        "<a href=\"https://colab.research.google.com/github/abhiraj-mengade/DSA/blob/main/Sorting_Algorithms.ipynb\" target=\"_parent\"><img src=\"https://colab.research.google.com/assets/colab-badge.svg\" alt=\"Open In Colab\"/></a>"
      ]
    },
    {
      "cell_type": "code",
      "metadata": {
        "id": "RPr5Txl8hEYz",
        "colab": {
          "base_uri": "https://localhost:8080/"
        },
        "outputId": "3202d858-bae8-4c0c-b198-bd5051cb1e49"
      },
      "source": [
        "#mergesort \n",
        "def merge(List,l,m,r):\n",
        "  l1= m-l+1\n",
        "  r1= r-m\n",
        "  L = [0] * (l1)\n",
        "  R = [0] * (r1)\n",
        "  \n",
        "  for i in range(0 , l1):\n",
        "      L[i] = List[l + i]\n",
        "  \n",
        "  for j in range(0 , r1):\n",
        "      R[j] = List[m + 1 + j]\n",
        "  i =0\n",
        "  j =0\n",
        "  k =l\n",
        "  while i < l1 and j < r1:\n",
        "    if L[i]<=R[j]:\n",
        "      List[k]=L[i]\n",
        "      i += 1\n",
        "    else:\n",
        "      List[k]=R[j]\n",
        "      j += 1\n",
        "    k += 1\n",
        "  while i<l1:\n",
        "    List[k]=L[i]\n",
        "    k+=1\n",
        "    i+=1\n",
        "  while j<r1:\n",
        "    List[k]=R[j]\n",
        "    k+=1\n",
        "    j+=1\n",
        "\n",
        "def mergesort(List,l,r):\n",
        "  if l<r:\n",
        "    m = (l+(r-1))//2\n",
        "    mergesort(List,l,m)\n",
        "    mergesort(List,m+1,r)\n",
        "    merge(List,l,m,r)\n",
        "  return List\n",
        "\n",
        "\n",
        "  \n",
        "print(mergesort([1,2,3,4,5],0,4))\n",
        "\n",
        "\n",
        "  \n"
      ],
      "execution_count": null,
      "outputs": [
        {
          "output_type": "stream",
          "text": [
            "[1, 2, 3, 4, 5]\n"
          ],
          "name": "stdout"
        }
      ]
    },
    {
      "cell_type": "markdown",
      "metadata": {
        "id": "bygLLaTjaDtT"
      },
      "source": [
        ""
      ]
    },
    {
      "cell_type": "code",
      "metadata": {
        "colab": {
          "base_uri": "https://localhost:8080/"
        },
        "id": "QMFBr1_tSozg",
        "outputId": "1e066e92-c1aa-45a9-9791-718844a9a8e7"
      },
      "source": [
        "#Insertion Sort\n",
        "def insort(List):\n",
        "  for i in range(0,len(List)):\n",
        "    key = List[i]\n",
        "    j=i-1\n",
        "    while j>=0 and key<List[j]:\n",
        "      List[j+1] = List[j]\n",
        "      j-=1\n",
        "    List[j+1]=key\n",
        "  print(List)\n",
        "insort([5,4,3,2,1])"
      ],
      "execution_count": null,
      "outputs": [
        {
          "output_type": "stream",
          "text": [
            "[1, 2, 3, 4, 5]\n"
          ],
          "name": "stdout"
        }
      ]
    },
    {
      "cell_type": "code",
      "metadata": {
        "colab": {
          "base_uri": "https://localhost:8080/"
        },
        "id": "LyLXtgaVecj0",
        "outputId": "7cbb825f-0719-427a-c327-4693241d7420"
      },
      "source": [
        "#BucketSort\n",
        "import math\n",
        "def bucksort(List):\n",
        "  M = max(List)\n",
        "  b = round(math.sqrt(len(List)))\n",
        "  arr=[]\n",
        "  for i in range(b):\n",
        "    arr.append([])\n",
        "  for j in List:\n",
        "    index = math.ceil(j*b/M)\n",
        "    arr[index-1].append(j)\n",
        "  for i in range(b):\n",
        "    arr[i]=insort(arr[i])\n",
        "  print(arr)\n",
        "\n",
        "bucksort([5,4,3,2,1])"
      ],
      "execution_count": null,
      "outputs": [
        {
          "output_type": "stream",
          "text": [
            "[1, 2]\n",
            "[3, 4, 5]\n",
            "[None, None]\n"
          ],
          "name": "stdout"
        }
      ]
    },
    {
      "cell_type": "code",
      "metadata": {
        "colab": {
          "base_uri": "https://localhost:8080/"
        },
        "id": "pf0BnwRHhalX",
        "outputId": "4b9cdb9b-bc69-4b48-a3f1-9267ed83bf0b"
      },
      "source": [
        "#Quicksort\n",
        "\n",
        "#1.Pythonic way.\n",
        "def quicksort1(List):\n",
        "  if len(List)<=1:\n",
        "    return List\n",
        "  pivot = List[len(List)//2]\n",
        "  Right = [x for x in List if x>pivot]\n",
        "  Left = [x for x in List if x<pivot]\n",
        "  Middle =[x for x in List if x==pivot]\n",
        "  return quicksort1(Left)+Middle+quicksort1(Right)\n",
        "print(quicksort1([5,4,3,2,1]))\n",
        "\n",
        "#2 Standard\n",
        "def partition(List, low , high):\n",
        "  i = low-1\n",
        "  pivot=List[high]\n",
        "  for j in range(low,high):\n",
        "    if List[j]<=pivot:\n",
        "      i+=1\n",
        "      List[i],List[j]= List[j],List[i]\n",
        "      \n",
        "  List[high],List[i+1]=List[i+1],List[high]\n",
        "  return (i+1)\n",
        "def quicksort(List,low,high):\n",
        "  if low<high:\n",
        "    pi = partition(List,low,high)\n",
        "    quicksort(List,low,pi-1)\n",
        "    quicksort(List,pi+1,high)\n",
        "  \n",
        "cList = [5,4,3,2,1]\n",
        "quicksort(cList,0,4)\n",
        "print(cList)\n"
      ],
      "execution_count": null,
      "outputs": [
        {
          "output_type": "stream",
          "text": [
            "[1, 2, 3, 4, 5]\n",
            "[1, 2, 3, 4, 5]\n"
          ],
          "name": "stdout"
        }
      ]
    },
    {
      "cell_type": "code",
      "metadata": {
        "colab": {
          "base_uri": "https://localhost:8080/"
        },
        "id": "pNnzUANgmZ9z",
        "outputId": "bbc0138b-24f0-4c49-aed7-fad75dd793e9"
      },
      "source": [
        "#HeapSort\n",
        "def heapify(List, n, i):\n",
        "  largest = i\n",
        "  l = 2*i+1\n",
        "  r = 2*i +2\n",
        "  if l<n and List[l]<List[largest]:\n",
        "    largest = l\n",
        "  if r<n and List[r]<List[largest]:\n",
        "    largest = r\n",
        "  if largest!=i:\n",
        "    List[largest],List[i]=List[i],List[largest]\n",
        "    heapify(List,n,largest)\n",
        "\n",
        "def heapsort(List):\n",
        "  n = len(List)\n",
        "  for i in range((n//2)-1,-1,-1):\n",
        "    heapify(List,n,i)\n",
        "  for i in range(n-1,0,-1):\n",
        "    List[i],List[0] = List[0],List[i]\n",
        "    heapify(List, i, 0)\n",
        "  print(List)\n",
        "\n",
        "\n",
        "heapsort([5,4,3,2,1])\n",
        "    "
      ],
      "execution_count": 8,
      "outputs": [
        {
          "output_type": "stream",
          "text": [
            "[5, 4, 3, 2, 1]\n"
          ],
          "name": "stdout"
        }
      ]
    },
    {
      "cell_type": "code",
      "metadata": {
        "id": "GL5VHj5kYX05"
      },
      "source": [
        ""
      ],
      "execution_count": null,
      "outputs": []
    }
  ]
}