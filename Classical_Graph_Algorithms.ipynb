{
  "nbformat": 4,
  "nbformat_minor": 0,
  "metadata": {
    "colab": {
      "name": "Classical Graph Algorithms.ipynb",
      "provenance": [],
      "authorship_tag": "ABX9TyMy7ylLPorsIpHul0joZdgU",
      "include_colab_link": true
    },
    "kernelspec": {
      "name": "python3",
      "display_name": "Python 3"
    },
    "language_info": {
      "name": "python"
    }
  },
  "cells": [
    {
      "cell_type": "markdown",
      "metadata": {
        "id": "view-in-github",
        "colab_type": "text"
      },
      "source": [
        "<a href=\"https://colab.research.google.com/github/abhiraj-mengade/DSA/blob/main/Classical_Graph_Algorithms.ipynb\" target=\"_parent\"><img src=\"https://colab.research.google.com/assets/colab-badge.svg\" alt=\"Open In Colab\"/></a>"
      ]
    },
    {
      "cell_type": "code",
      "metadata": {
        "id": "rwV_qVaaaLrl"
      },
      "source": [
        "#Graph Class\n",
        "from collections import defaultdict\n",
        "class Graph:\n",
        "  def __init__(self,vertices):\n",
        "    self.graph=defaultdict(list)\n",
        "    self.vert=vertices\n",
        "  def addEdge(self,u,v):\n",
        "    self.graph[u].append(v)\n",
        "\n"
      ],
      "execution_count": 12,
      "outputs": []
    },
    {
      "cell_type": "code",
      "metadata": {
        "colab": {
          "base_uri": "https://localhost:8080/"
        },
        "id": "d8DWSGp_a9MT",
        "outputId": "683ef51a-74ed-4625-d76f-5364db27b1c3"
      },
      "source": [
        "#1. Topological sort\n",
        "def dfs(Graph,v,visited,stack):\n",
        "  visited[v]=True\n",
        "  for i in Graph.graph[v]:\n",
        "    if visited[i]==False:\n",
        "      dfs(Graph,i,visited,stack)\n",
        "  stack.append(v)\n",
        "def topsort(Graph):\n",
        "  visited = [False]*Graph.vert\n",
        "  stack=[]\n",
        "  for i in range(Graph.vert):\n",
        "            if visited[i] == False:\n",
        "                dfs(Graph,i,visited,stack)\n",
        "  return stack[::-1]\n",
        "\n",
        "g = Graph(6)\n",
        "g.addEdge(5, 2)\n",
        "g.addEdge(5, 0)\n",
        "g.addEdge(4, 0)\n",
        "g.addEdge(4, 1)\n",
        "g.addEdge(2, 3)\n",
        "g.addEdge(3, 1)\n",
        "print(g.graph)\n",
        "print(topsort(g))\n",
        "\n",
        "\n",
        "\n",
        "\n",
        "\n",
        "\n"
      ],
      "execution_count": 18,
      "outputs": [
        {
          "output_type": "stream",
          "text": [
            "defaultdict(<class 'list'>, {5: [2, 0], 4: [0, 1], 2: [3], 3: [1]})\n",
            "[5, 4, 2, 3, 1, 0]\n"
          ],
          "name": "stdout"
        }
      ]
    },
    {
      "cell_type": "code",
      "metadata": {
        "id": "mbkPb4D5dTtd"
      },
      "source": [
        ""
      ],
      "execution_count": null,
      "outputs": []
    }
  ]
}